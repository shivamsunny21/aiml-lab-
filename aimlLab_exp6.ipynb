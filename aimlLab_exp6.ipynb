{
  "nbformat": 4,
  "nbformat_minor": 0,
  "metadata": {
    "colab": {
      "provenance": []
    },
    "kernelspec": {
      "name": "python3",
      "display_name": "Python 3"
    },
    "language_info": {
      "name": "python"
    }
  },
  "cells": [
    {
      "cell_type": "code",
      "execution_count": 16,
      "metadata": {
        "id": "gRQqBmzDj1CC"
      },
      "outputs": [],
      "source": [
        "import pandas as pd\n",
        "import numpy as np\n",
        "from sklearn.impute import SimpleImputer\n",
        "from scipy import stats\n",
        "# we import necessary modules\n",
        "\n"
      ]
    },
    {
      "cell_type": "code",
      "source": [
        "from google.colab import files"
      ],
      "metadata": {
        "id": "SzzozmfdlbeJ"
      },
      "execution_count": 17,
      "outputs": []
    },
    {
      "cell_type": "code",
      "source": [
        "# loading data\n",
        "uploaded = files.upload()"
      ],
      "metadata": {
        "colab": {
          "base_uri": "https://localhost:8080/",
          "height": 73
        },
        "id": "7wF1c2Q8mUO4",
        "outputId": "3a20502f-41d1-460f-fc57-9b4dfe356e02"
      },
      "execution_count": 18,
      "outputs": [
        {
          "output_type": "display_data",
          "data": {
            "text/plain": [
              "<IPython.core.display.HTML object>"
            ],
            "text/html": [
              "\n",
              "     <input type=\"file\" id=\"files-875a85be-3509-4c1b-98c4-2ee7eb93918e\" name=\"files[]\" multiple disabled\n",
              "        style=\"border:none\" />\n",
              "     <output id=\"result-875a85be-3509-4c1b-98c4-2ee7eb93918e\">\n",
              "      Upload widget is only available when the cell has been executed in the\n",
              "      current browser session. Please rerun this cell to enable.\n",
              "      </output>\n",
              "      <script>// Copyright 2017 Google LLC\n",
              "//\n",
              "// Licensed under the Apache License, Version 2.0 (the \"License\");\n",
              "// you may not use this file except in compliance with the License.\n",
              "// You may obtain a copy of the License at\n",
              "//\n",
              "//      http://www.apache.org/licenses/LICENSE-2.0\n",
              "//\n",
              "// Unless required by applicable law or agreed to in writing, software\n",
              "// distributed under the License is distributed on an \"AS IS\" BASIS,\n",
              "// WITHOUT WARRANTIES OR CONDITIONS OF ANY KIND, either express or implied.\n",
              "// See the License for the specific language governing permissions and\n",
              "// limitations under the License.\n",
              "\n",
              "/**\n",
              " * @fileoverview Helpers for google.colab Python module.\n",
              " */\n",
              "(function(scope) {\n",
              "function span(text, styleAttributes = {}) {\n",
              "  const element = document.createElement('span');\n",
              "  element.textContent = text;\n",
              "  for (const key of Object.keys(styleAttributes)) {\n",
              "    element.style[key] = styleAttributes[key];\n",
              "  }\n",
              "  return element;\n",
              "}\n",
              "\n",
              "// Max number of bytes which will be uploaded at a time.\n",
              "const MAX_PAYLOAD_SIZE = 100 * 1024;\n",
              "\n",
              "function _uploadFiles(inputId, outputId) {\n",
              "  const steps = uploadFilesStep(inputId, outputId);\n",
              "  const outputElement = document.getElementById(outputId);\n",
              "  // Cache steps on the outputElement to make it available for the next call\n",
              "  // to uploadFilesContinue from Python.\n",
              "  outputElement.steps = steps;\n",
              "\n",
              "  return _uploadFilesContinue(outputId);\n",
              "}\n",
              "\n",
              "// This is roughly an async generator (not supported in the browser yet),\n",
              "// where there are multiple asynchronous steps and the Python side is going\n",
              "// to poll for completion of each step.\n",
              "// This uses a Promise to block the python side on completion of each step,\n",
              "// then passes the result of the previous step as the input to the next step.\n",
              "function _uploadFilesContinue(outputId) {\n",
              "  const outputElement = document.getElementById(outputId);\n",
              "  const steps = outputElement.steps;\n",
              "\n",
              "  const next = steps.next(outputElement.lastPromiseValue);\n",
              "  return Promise.resolve(next.value.promise).then((value) => {\n",
              "    // Cache the last promise value to make it available to the next\n",
              "    // step of the generator.\n",
              "    outputElement.lastPromiseValue = value;\n",
              "    return next.value.response;\n",
              "  });\n",
              "}\n",
              "\n",
              "/**\n",
              " * Generator function which is called between each async step of the upload\n",
              " * process.\n",
              " * @param {string} inputId Element ID of the input file picker element.\n",
              " * @param {string} outputId Element ID of the output display.\n",
              " * @return {!Iterable<!Object>} Iterable of next steps.\n",
              " */\n",
              "function* uploadFilesStep(inputId, outputId) {\n",
              "  const inputElement = document.getElementById(inputId);\n",
              "  inputElement.disabled = false;\n",
              "\n",
              "  const outputElement = document.getElementById(outputId);\n",
              "  outputElement.innerHTML = '';\n",
              "\n",
              "  const pickedPromise = new Promise((resolve) => {\n",
              "    inputElement.addEventListener('change', (e) => {\n",
              "      resolve(e.target.files);\n",
              "    });\n",
              "  });\n",
              "\n",
              "  const cancel = document.createElement('button');\n",
              "  inputElement.parentElement.appendChild(cancel);\n",
              "  cancel.textContent = 'Cancel upload';\n",
              "  const cancelPromise = new Promise((resolve) => {\n",
              "    cancel.onclick = () => {\n",
              "      resolve(null);\n",
              "    };\n",
              "  });\n",
              "\n",
              "  // Wait for the user to pick the files.\n",
              "  const files = yield {\n",
              "    promise: Promise.race([pickedPromise, cancelPromise]),\n",
              "    response: {\n",
              "      action: 'starting',\n",
              "    }\n",
              "  };\n",
              "\n",
              "  cancel.remove();\n",
              "\n",
              "  // Disable the input element since further picks are not allowed.\n",
              "  inputElement.disabled = true;\n",
              "\n",
              "  if (!files) {\n",
              "    return {\n",
              "      response: {\n",
              "        action: 'complete',\n",
              "      }\n",
              "    };\n",
              "  }\n",
              "\n",
              "  for (const file of files) {\n",
              "    const li = document.createElement('li');\n",
              "    li.append(span(file.name, {fontWeight: 'bold'}));\n",
              "    li.append(span(\n",
              "        `(${file.type || 'n/a'}) - ${file.size} bytes, ` +\n",
              "        `last modified: ${\n",
              "            file.lastModifiedDate ? file.lastModifiedDate.toLocaleDateString() :\n",
              "                                    'n/a'} - `));\n",
              "    const percent = span('0% done');\n",
              "    li.appendChild(percent);\n",
              "\n",
              "    outputElement.appendChild(li);\n",
              "\n",
              "    const fileDataPromise = new Promise((resolve) => {\n",
              "      const reader = new FileReader();\n",
              "      reader.onload = (e) => {\n",
              "        resolve(e.target.result);\n",
              "      };\n",
              "      reader.readAsArrayBuffer(file);\n",
              "    });\n",
              "    // Wait for the data to be ready.\n",
              "    let fileData = yield {\n",
              "      promise: fileDataPromise,\n",
              "      response: {\n",
              "        action: 'continue',\n",
              "      }\n",
              "    };\n",
              "\n",
              "    // Use a chunked sending to avoid message size limits. See b/62115660.\n",
              "    let position = 0;\n",
              "    do {\n",
              "      const length = Math.min(fileData.byteLength - position, MAX_PAYLOAD_SIZE);\n",
              "      const chunk = new Uint8Array(fileData, position, length);\n",
              "      position += length;\n",
              "\n",
              "      const base64 = btoa(String.fromCharCode.apply(null, chunk));\n",
              "      yield {\n",
              "        response: {\n",
              "          action: 'append',\n",
              "          file: file.name,\n",
              "          data: base64,\n",
              "        },\n",
              "      };\n",
              "\n",
              "      let percentDone = fileData.byteLength === 0 ?\n",
              "          100 :\n",
              "          Math.round((position / fileData.byteLength) * 100);\n",
              "      percent.textContent = `${percentDone}% done`;\n",
              "\n",
              "    } while (position < fileData.byteLength);\n",
              "  }\n",
              "\n",
              "  // All done.\n",
              "  yield {\n",
              "    response: {\n",
              "      action: 'complete',\n",
              "    }\n",
              "  };\n",
              "}\n",
              "\n",
              "scope.google = scope.google || {};\n",
              "scope.google.colab = scope.google.colab || {};\n",
              "scope.google.colab._files = {\n",
              "  _uploadFiles,\n",
              "  _uploadFilesContinue,\n",
              "};\n",
              "})(self);\n",
              "</script> "
            ]
          },
          "metadata": {}
        },
        {
          "output_type": "stream",
          "name": "stdout",
          "text": [
            "Saving studentdata.csv to studentdata (1).csv\n"
          ]
        }
      ]
    },
    {
      "cell_type": "code",
      "source": [
        "import io"
      ],
      "metadata": {
        "id": "FEKJ3_yCmdbV"
      },
      "execution_count": 19,
      "outputs": []
    },
    {
      "cell_type": "code",
      "source": [
        "df = pd.read_csv(io.BytesIO(uploaded['studentdata (1).csv']))"
      ],
      "metadata": {
        "id": "N1BPr_S8miNy"
      },
      "execution_count": 23,
      "outputs": []
    },
    {
      "cell_type": "code",
      "source": [
        "# 1. Handling Missing Values\n",
        "# we are Identifying missing values\n",
        "print(\"Missing values in each column:\\n\", df.isnull().sum())"
      ],
      "metadata": {
        "colab": {
          "base_uri": "https://localhost:8080/"
        },
        "id": "oRuYN5gPmvm3",
        "outputId": "c419f01d-6445-4d2c-94cf-3f82e53369c4"
      },
      "execution_count": 24,
      "outputs": [
        {
          "output_type": "stream",
          "name": "stdout",
          "text": [
            "Missing values in each column:\n",
            " Hours_Studied                  0\n",
            "Attendance                     0\n",
            "Parental_Involvement           0\n",
            "Access_to_Resources            0\n",
            "Extracurricular_Activities     0\n",
            "Sleep_Hours                    0\n",
            "Previous_Scores                0\n",
            "Motivation_Level               0\n",
            "Internet_Access                0\n",
            "Tutoring_Sessions              0\n",
            "Family_Income                  0\n",
            "Teacher_Quality               78\n",
            "School_Type                    0\n",
            "Peer_Influence                 0\n",
            "Physical_Activity              0\n",
            "Learning_Disabilities          0\n",
            "Parental_Education_Level      90\n",
            "Distance_from_Home            67\n",
            "Gender                         0\n",
            "Exam_Score                     3\n",
            "dtype: int64\n"
          ]
        }
      ]
    },
    {
      "cell_type": "code",
      "source": [
        "# we are Imputing missing numeric values with the mean\n",
        "\n",
        "imputer = SimpleImputer(strategy='mean')\n",
        "df['Exam_Score'] = imputer.fit_transform(df[['Exam_Score']])"
      ],
      "metadata": {
        "id": "VIFsNeIqm-8H"
      },
      "execution_count": 26,
      "outputs": []
    },
    {
      "cell_type": "code",
      "source": [
        "# Impute missing categorical values with the most frequent value\n",
        "imputer = SimpleImputer(strategy='most_frequent')\n",
        "\n",
        "df['Exam_Score'] = imputer.fit_transform(df[['Exam_Score']]).ravel()"
      ],
      "metadata": {
        "id": "EXi6o_lan5iy"
      },
      "execution_count": 27,
      "outputs": []
    },
    {
      "cell_type": "code",
      "source": [
        "# 2. Handling Outliers\n",
        "# Using Z-score method for numeric columns (e.g., Age, Salary)\n",
        "z_scores = np.abs(stats.zscore(df[['Attendance', 'Exam_Score']]))\n",
        "print(\"Z-scores:\\n\", z_scores)"
      ],
      "metadata": {
        "colab": {
          "base_uri": "https://localhost:8080/"
        },
        "id": "qlm8O8V2pMGn",
        "outputId": "a0b561d9-1951-432b-e61f-0c29159b1325"
      },
      "execution_count": 30,
      "outputs": [
        {
          "output_type": "stream",
          "name": "stdout",
          "text": [
            "Z-scores:\n",
            "       Attendance  Exam_Score\n",
            "0       0.348375    0.060125\n",
            "1       1.383736    1.603118\n",
            "2       1.560853    1.740034\n",
            "3       0.781403    0.968538\n",
            "4       1.041220    0.711372\n",
            "...          ...         ...\n",
            "6602    0.950708    0.197041\n",
            "6603    0.344469    0.454206\n",
            "6604    0.868009    0.197041\n",
            "6605    0.521587    0.197041\n",
            "6606    1.123919    0.831621\n",
            "\n",
            "[6607 rows x 2 columns]\n"
          ]
        }
      ]
    },
    {
      "cell_type": "code",
      "source": [
        "# Set threshold for Z-score\n",
        "threshold = 1\n",
        "df_no_outliers = df[(z_scores < threshold).all(axis=1)]"
      ],
      "metadata": {
        "id": "DunIWd8Tpa6D"
      },
      "execution_count": 35,
      "outputs": []
    },
    {
      "cell_type": "code",
      "source": [
        "# View the processed data\n",
        "print(\"\\nData after handling missing values and outliers:\\n\", df_no_outliers)"
      ],
      "metadata": {
        "colab": {
          "base_uri": "https://localhost:8080/"
        },
        "id": "BxBRyHRgp0uS",
        "outputId": "932f4ac8-8aeb-430f-dcb7-d0a22dad08ec"
      },
      "execution_count": 36,
      "outputs": [
        {
          "output_type": "stream",
          "name": "stdout",
          "text": [
            "\n",
            "Data after handling missing values and outliers:\n",
            "       Hours_Studied  Attendance Parental_Involvement Access_to_Resources  \\\n",
            "0                23          84                  Low                High   \n",
            "3                29          89                  Low              Medium   \n",
            "5                19          88               Medium              Medium   \n",
            "6                29          84               Medium                 Low   \n",
            "7                25          78                  Low                High   \n",
            "...             ...         ...                  ...                 ...   \n",
            "6601             20          83               Medium                 Low   \n",
            "6602             25          69                 High              Medium   \n",
            "6603             23          76                 High              Medium   \n",
            "6604             20          90               Medium                 Low   \n",
            "6605             10          86                 High                High   \n",
            "\n",
            "     Extracurricular_Activities  Sleep_Hours  Previous_Scores  \\\n",
            "0                            No            7               73   \n",
            "3                           Yes            8               98   \n",
            "5                           Yes            8               89   \n",
            "6                           Yes            7               68   \n",
            "7                           Yes            6               50   \n",
            "...                         ...          ...              ...   \n",
            "6601                         No            6               51   \n",
            "6602                         No            7               76   \n",
            "6603                         No            8               81   \n",
            "6604                        Yes            6               65   \n",
            "6605                        Yes            6               91   \n",
            "\n",
            "     Motivation_Level Internet_Access  Tutoring_Sessions Family_Income  \\\n",
            "0                 Low             Yes                  0           Low   \n",
            "3              Medium             Yes                  1        Medium   \n",
            "5              Medium             Yes                  3        Medium   \n",
            "6                 Low             Yes                  1           Low   \n",
            "7              Medium             Yes                  1          High   \n",
            "...               ...             ...                ...           ...   \n",
            "6601              Low             Yes                  2        Medium   \n",
            "6602           Medium             Yes                  1          High   \n",
            "6603           Medium             Yes                  3           Low   \n",
            "6604              Low             Yes                  3           Low   \n",
            "6605             High             Yes                  2           Low   \n",
            "\n",
            "     Teacher_Quality School_Type Peer_Influence  Physical_Activity  \\\n",
            "0             Medium      Public       Positive                  3   \n",
            "3             Medium      Public       Negative                  4   \n",
            "5             Medium      Public       Positive                  3   \n",
            "6             Medium     Private        Neutral                  2   \n",
            "7               High      Public       Negative                  2   \n",
            "...              ...         ...            ...                ...   \n",
            "6601          Medium      Public        Neutral                  4   \n",
            "6602          Medium      Public       Positive                  2   \n",
            "6603            High      Public       Positive                  2   \n",
            "6604          Medium      Public       Negative                  2   \n",
            "6605          Medium     Private       Positive                  3   \n",
            "\n",
            "     Learning_Disabilities Parental_Education_Level Distance_from_Home  \\\n",
            "0                       No              High School               Near   \n",
            "3                       No              High School           Moderate   \n",
            "5                       No             Postgraduate               Near   \n",
            "6                       No              High School           Moderate   \n",
            "7                       No              High School                Far   \n",
            "...                    ...                      ...                ...   \n",
            "6601                    No              High School           Moderate   \n",
            "6602                    No              High School               Near   \n",
            "6603                    No              High School               Near   \n",
            "6604                    No             Postgraduate               Near   \n",
            "6605                    No              High School                Far   \n",
            "\n",
            "      Gender  Exam_Score  \n",
            "0       Male        67.0  \n",
            "3       Male        71.0  \n",
            "5       Male        71.0  \n",
            "6       Male        67.0  \n",
            "7       Male        66.0  \n",
            "...      ...         ...  \n",
            "6601  Female        65.0  \n",
            "6602  Female        68.0  \n",
            "6603  Female        69.0  \n",
            "6604  Female        68.0  \n",
            "6605  Female        68.0  \n",
            "\n",
            "[3166 rows x 20 columns]\n"
          ]
        }
      ]
    }
  ]
}